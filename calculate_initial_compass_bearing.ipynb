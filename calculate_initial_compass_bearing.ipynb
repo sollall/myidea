{
  "nbformat": 4,
  "nbformat_minor": 0,
  "metadata": {
    "colab": {
      "provenance": [],
      "authorship_tag": "ABX9TyNZ6aKWdTRV3/GZVeOTWfmp",
      "include_colab_link": true
    },
    "kernelspec": {
      "name": "python3",
      "display_name": "Python 3"
    },
    "language_info": {
      "name": "python"
    }
  },
  "cells": [
    {
      "cell_type": "markdown",
      "metadata": {
        "id": "view-in-github",
        "colab_type": "text"
      },
      "source": [
        "<a href=\"https://colab.research.google.com/github/sollall/myidea/blob/master/calculate_initial_compass_bearing.ipynb\" target=\"_parent\"><img src=\"https://colab.research.google.com/assets/colab-badge.svg\" alt=\"Open In Colab\"/></a>"
      ]
    },
    {
      "cell_type": "code",
      "execution_count": null,
      "metadata": {
        "colab": {
          "base_uri": "https://localhost:8080/"
        },
        "id": "tWmILItURfMQ",
        "outputId": "9206db42-1827-4271-fd89-0902471fec64"
      },
      "outputs": [
        {
          "output_type": "stream",
          "name": "stdout",
          "text": [
            "267.9938255019845\n"
          ]
        }
      ],
      "source": [
        "from geopy.distance import geodesic\n",
        "\n",
        "# (緯度, 経度)\n",
        "TokyoStation = (35.681382, 139.76608399999998)\n",
        "NagoyaStation = (35.170915, 136.881537)\n",
        "\n",
        "dis = geodesic(TokyoStation, NagoyaStation).km\n",
        "\n",
        "print(dis)\n",
        "# 267.9938255019848"
      ]
    },
    {
      "cell_type": "code",
      "source": [
        "ShibuyaStation = (35.6598003, 139.7023894)"
      ],
      "metadata": {
        "id": "U2r9I-59WT1A"
      },
      "execution_count": null,
      "outputs": []
    },
    {
      "cell_type": "code",
      "source": [
        "import math\n",
        "\n",
        "def calculate_initial_compass_bearing(pointA, pointB):\n",
        "    \"\"\"\n",
        "    Calculates the bearing between two points.\n",
        "    The formulae used is the following:\n",
        "        θ = atan2(sin(Δlong).cos(lat2),\n",
        "                  cos(lat1).sin(lat2) − sin(lat1).cos(lat2).cos(Δlong))\n",
        "    :Parameters:\n",
        "      - `pointA: The tuple representing the latitude/longitude for the\n",
        "        first point. Latitude and longitude must be in decimal degrees\n",
        "      - `pointB: The tuple representing the latitude/longitude for the\n",
        "        second point. Latitude and longitude must be in decimal degrees\n",
        "    :Returns:\n",
        "      The bearing in degrees\n",
        "    :Returns Type:\n",
        "      float\n",
        "    \"\"\"\n",
        "    if (type(pointA) != tuple) or (type(pointB) != tuple):\n",
        "        raise TypeError(\"Only tuples are supported as arguments\")\n",
        "\n",
        "    lat1 = math.radians(pointA[0])\n",
        "    lat2 = math.radians(pointB[0])\n",
        "\n",
        "    print(lat1,lat2)\n",
        "\n",
        "    diffLong = math.radians(pointB[1] - pointA[1])\n",
        "\n",
        "    x = math.sin(diffLong) * math.cos(lat2)\n",
        "    y = math.cos(lat1) * math.sin(lat2) - (math.sin(lat1)\n",
        "            * math.cos(lat2) * math.cos(diffLong))\n",
        "\n",
        "    initial_bearing = math.atan2(x, y)\n",
        "\n",
        "    # Now we have the initial bearing but math.atan2 return values\n",
        "    # from -180° to + 180° which is not what we want for a compass bearing\n",
        "    # The solution is to normalize the initial bearing as shown below\n",
        "    initial_bearing = math.degrees(initial_bearing)\n",
        "    compass_bearing = (initial_bearing + 360) % 360\n",
        "\n",
        "    print(x,y)\n",
        "    return compass_bearing"
      ],
      "metadata": {
        "id": "4sMvP49GU5k8"
      },
      "execution_count": null,
      "outputs": []
    },
    {
      "cell_type": "code",
      "source": [
        "a=(48.87193568452545, 2.2045087599500346)"
      ],
      "metadata": {
        "id": "dQ3MAvSHWn1m"
      },
      "execution_count": null,
      "outputs": []
    },
    {
      "cell_type": "code",
      "source": [
        "calculate_initial_compass_bearing(TokyoStation, a)"
      ],
      "metadata": {
        "colab": {
          "base_uri": "https://localhost:8080/"
        },
        "id": "9pQGgyUJU7Dm",
        "outputId": "e424e9bf-b551-46ca-b509-9abab80d7d5f"
      },
      "execution_count": null,
      "outputs": [
        {
          "output_type": "stream",
          "name": "stdout",
          "text": [
            "0.6227575975618393 0.8529761895178778\n",
            "-0.4438441732422131 0.8949705013822306\n"
          ]
        },
        {
          "output_type": "execute_result",
          "data": {
            "text/plain": [
              "333.621732792936"
            ]
          },
          "metadata": {},
          "execution_count": 25
        }
      ]
    },
    {
      "cell_type": "code",
      "source": [],
      "metadata": {
        "id": "ZdzkVEBUW4jQ"
      },
      "execution_count": null,
      "outputs": []
    }
  ]
}