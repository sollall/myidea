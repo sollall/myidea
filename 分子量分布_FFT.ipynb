{
  "cells": [
    {
      "cell_type": "markdown",
      "metadata": {
        "id": "view-in-github",
        "colab_type": "text"
      },
      "source": [
        "<a href=\"https://colab.research.google.com/github/sollall/myidea/blob/master/%E5%88%86%E5%AD%90%E9%87%8F%E5%88%86%E5%B8%83_FFT.ipynb\" target=\"_parent\"><img src=\"https://colab.research.google.com/assets/colab-badge.svg\" alt=\"Open In Colab\"/></a>"
      ]
    },
    {
      "cell_type": "code",
      "execution_count": 1,
      "metadata": {
        "id": "3PqMO-SLgKzR"
      },
      "outputs": [],
      "source": [
        "import numpy as np\n",
        "import matplotlib.pyplot as plt\n",
        "import time"
      ]
    },
    {
      "cell_type": "code",
      "execution_count": 3,
      "metadata": {
        "id": "EdZ47TaMgVFQ"
      },
      "outputs": [],
      "source": [
        "import cmath\n",
        " \n",
        "class FFT:\n",
        "    def __init__(self):\n",
        "        self.pi = cmath.pi\n",
        "    \n",
        "    def convolution(self, g, h):\n",
        "        l = len(g) + len(h)\n",
        "        n = 1 << l.bit_length()\n",
        "        \n",
        "        g = g + [0] * (n - len(g))\n",
        "        h = h + [0] * (n - len(h))\n",
        "       \n",
        "        gg = self.fft(g, n)\n",
        "        hh = self.fft(h, n)\n",
        "        ff = [gg[i] * hh[i] for i in range(n)]\n",
        " \n",
        "        return self.inv_fft(ff, n)\n",
        " \n",
        "    def fft(self, f, n, sgn = 1):\n",
        "        if n == 1: return f\n",
        " \n",
        "        f0 = [f[2 * i] for i in range(n // 2)]\n",
        "        f1 = [f[2 * i + 1] for i in range(n // 2)]\n",
        "        f0 = self.fft(f0, n // 2, sgn)\n",
        "        f1 = self.fft(f1, n // 2, sgn)\n",
        " \n",
        "        zeta = cmath.rect(1, sgn * self.pi * 2 / n)\n",
        "        pow_zeta = 1\n",
        " \n",
        "        for i in range(n):\n",
        "            f[i] = f0[i % (n // 2)] + pow_zeta * f1[i % (n // 2)]\n",
        "            pow_zeta *= zeta\n",
        " \n",
        "        return f\n",
        " \n",
        "    def inv_fft(self, f, n):\n",
        "        ret = self.fft(f, n, -1)\n",
        "        for i in range(n):\n",
        "            ret[i] = (ret[i].real / n)\n",
        " \n",
        "        return ret"
      ]
    },
    {
      "cell_type": "code",
      "execution_count": null,
      "metadata": {
        "id": "NadexjrZl4-H"
      },
      "outputs": [],
      "source": [
        "Time=15000\n",
        "N=3*10**4\n",
        "mol_init=5000\n",
        "r_init=1#1stepでの反応分子数　途中で小さくなる\n",
        "\n",
        "mols=[0 for i in range(N)]\n",
        "mols[1]=mol_init\n",
        "\n",
        "A=mols[:]\n",
        "M_init=sum(mols)\n",
        "SUM=sum(A)\n",
        "\n",
        "fft=FFT()\n",
        "\n",
        "k=0.005\n",
        "r=0\n",
        "threshold=r_init*k\n",
        "\n",
        "for step in range(Time):\n",
        "    r_init,r=(1-k)*r_init,r+k*r_init\n",
        "    print(step)\n",
        "\n",
        "    SUM_A=sum(A)\n",
        "    new_A=[A[i]-A[i]/SUM_A*r for i in range(len(A))]\n",
        "    \n",
        "    C=(fft.convolution(A,A))\n",
        "    SUM_C=sum(C)\n",
        "\n",
        "    C=[C[i]*r/2/SUM_C for i in range(len(C))]\n",
        "    temp=[new_A[i]+C[i] for i in range(len(A))]\n",
        "\n",
        "    new_A=temp[:]\n",
        "    r*=(1-r/SUM_A)\n",
        "    print(new_A[:30])\n",
        "    print(C[:30])\n",
        "    print(sum(new_A),sum(A))\n",
        "    print(\"r:\"+str(r))\n",
        "    \n",
        "    if mol_init-sum([new_A[i]*i for i in range(len(new_A))])>1:\n",
        "        break\n",
        "\n",
        "    A=new_A[:]\n",
        "\n",
        "    \n",
        "    plt.plot(A)\n",
        "    plt.show()\n",
        "    plt.plot([A[i]*i for i in range(len(A))])\n",
        "    plt.show()\n",
        "\n",
        "    \n",
        "    \n"
      ]
    }
  ],
  "metadata": {
    "colab": {
      "name": "分子量分布_FFT.ipynb",
      "provenance": [],
      "collapsed_sections": [],
      "authorship_tag": "ABX9TyMFYFdhw2YGDJbzchu18VPH",
      "include_colab_link": true
    },
    "kernelspec": {
      "display_name": "Python 3",
      "name": "python3"
    },
    "language_info": {
      "name": "python"
    }
  },
  "nbformat": 4,
  "nbformat_minor": 0
}