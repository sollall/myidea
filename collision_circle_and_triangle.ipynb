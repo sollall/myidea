{
  "nbformat": 4,
  "nbformat_minor": 0,
  "metadata": {
    "colab": {
      "provenance": [],
      "authorship_tag": "ABX9TyPUvIyw9+t7g9kvJ9Pr0qCY",
      "include_colab_link": true
    },
    "kernelspec": {
      "name": "python3",
      "display_name": "Python 3"
    },
    "language_info": {
      "name": "python"
    }
  },
  "cells": [
    {
      "cell_type": "markdown",
      "metadata": {
        "id": "view-in-github",
        "colab_type": "text"
      },
      "source": [
        "<a href=\"https://colab.research.google.com/github/sollall/myidea/blob/master/collision_circle_and_triangle.ipynb\" target=\"_parent\"><img src=\"https://colab.research.google.com/assets/colab-badge.svg\" alt=\"Open In Colab\"/></a>"
      ]
    },
    {
      "cell_type": "code",
      "source": [
        "#https://2dengine.com/?p=intersections"
      ],
      "metadata": {
        "id": "JkcnV5U8nz61"
      },
      "execution_count": null,
      "outputs": []
    },
    {
      "cell_type": "code",
      "source": [
        "def dot(ax, ay, bx, by):\n",
        "  return ax*bx + ay*by"
      ],
      "metadata": {
        "id": "dpqjhbOAgaVo"
      },
      "execution_count": 3,
      "outputs": []
    },
    {
      "cell_type": "code",
      "source": [
        "def pointOnTriangle(px, py, ax, ay, bx, by, cx, cy):\n",
        "  abx, aby = bx - ax, by - ay\n",
        "  acx, acy = cx - ax, cy - ay\n",
        "  apx, apy = px - ax, py - ay\n",
        "  \n",
        "  d1 = dot(abx, aby, apx, apy)\n",
        "  d2 = dot(acx, acy, apx, apy)\n",
        "  if d1 <= 0 and d2 <= 0:\n",
        "    return ax, ay\n",
        "  \n",
        "  #vertex region outside b\n",
        "  bpx, bpy = px - bx, py - by\n",
        "  d3 = dot(abx, aby, bpx, bpy)\n",
        "  d4 = dot(acx, acy, bpx, bpy)\n",
        "  if d3 >= 0 and d4 <= d3:\n",
        "    return bx, by\n",
        "  \n",
        "  #edge region ab\n",
        "  if d1 >= 0 and d3 <= 0 and d1*d4 - d3*d2 <= 0:\n",
        "    v = d1/(d1 - d3)\n",
        "    return ax + abx*v, ay + aby*v\n",
        "  \n",
        "  #vertex region outside c\n",
        "  cpx, cpy = px - cx, py - cy\n",
        "  d5 = dot(abx, aby, cpx, cpy)\n",
        "  d6 = dot(acx, acy, cpx, cpy)\n",
        "  if d6 >= 0 and d5 <= d6:\n",
        "    return cx, cy\n",
        "  \n",
        "  if d2 >= 0 and d6 <= 0 and d5*d2 - d1*d6 <= 0:\n",
        "    w = d2/(d2 - d6)\n",
        "    return ax + acx*w, ay + acy*w\n",
        "\n",
        "  #edge region bc\n",
        "  if d3*d6 - d5*d4 <= 0:\n",
        "    d43 = d4 - d3\n",
        "    d56 = d5 - d6\n",
        "    if d43 >= 0 and d56 >= 0:\n",
        "      w = d43/(d43 + d56)\n",
        "      return bx + (cx - bx)*w, by + (cy - by)*w\n",
        "    \n",
        "  #inside face region\n",
        "  return px, py\n"
      ],
      "metadata": {
        "id": "WYABmWm_c8Lc"
      },
      "execution_count": 5,
      "outputs": []
    },
    {
      "cell_type": "code",
      "source": [
        "import matplotlib.pyplot as plt\n",
        "\n",
        "px, py=8,10\n",
        "\n",
        "x=[-2,3,0]\n",
        "y=[2,0,3]\n",
        "\n",
        "plt.figure(figsize=(6, 6))\n",
        "plt.scatter(px,py)\n",
        "plt.plot(x+[x[0]],y+[y[0]])\n",
        "plt.xlim(-10,10)\n",
        "plt.ylim(-10,10)\n",
        "\n",
        "x,y=pointOnTriangle(px, py, x[0], y[0], x[1], y[1], x[2], y[2])\n",
        "plt.scatter(x,y)"
      ],
      "metadata": {
        "colab": {
          "base_uri": "https://localhost:8080/",
          "height": 395
        },
        "id": "j1YK8-RroDp2",
        "outputId": "70b96202-2bab-4227-e1e5-819f108b92db"
      },
      "execution_count": 116,
      "outputs": [
        {
          "output_type": "execute_result",
          "data": {
            "text/plain": [
              "<matplotlib.collections.PathCollection at 0x7f26eb2b3b50>"
            ]
          },
          "metadata": {},
          "execution_count": 116
        },
        {
          "output_type": "display_data",
          "data": {
            "text/plain": [
              "<Figure size 432x432 with 1 Axes>"
            ],
            "image/png": "[encoded data removed]"
          },
          "metadata": {
            "needs_background": "light"
          }
        }
      ]
    },
    {
      "cell_type": "code",
      "source": [
        "def pointInCircle(px, py, cx, cy, r):\n",
        "  dx, dy = px - cx, py - cy\n",
        "  return dx*dx + dy*dy <= r*r\n"
      ],
      "metadata": {
        "id": "aOt8QpuA2E3U"
      },
      "execution_count": 118,
      "outputs": []
    },
    {
      "cell_type": "code",
      "source": [
        "def triangleVsCircle(ax, ay, bx, by, cx, cy, sx, sy, r):\n",
        "  qx, qy = pointOnTriangle(sx, sy, ax, ay, bx, by, cx, cy)\n",
        "  return pointInCircle(qx, qy, sx, sy, r)\n",
        "\n"
      ],
      "metadata": {
        "id": "B31JzgUMpeBJ"
      },
      "execution_count": 121,
      "outputs": []
    },
    {
      "cell_type": "code",
      "source": [
        "import matplotlib.pyplot as plt\n",
        "import matplotlib.patches as patches\n",
        "\n",
        "px, py,r=-2,3,.8\n",
        "\n",
        "x=[-2,3,0]\n",
        "y=[2,0,3]\n",
        "\n",
        "fig = plt.figure(figsize=(6, 6))\n",
        "ax = plt.axes()\n",
        "c = patches.Circle(xy=(px, py), radius=r, fc='g', ec='r')\n",
        "ax.add_patch(c)\n",
        "\n",
        "ax.scatter(px,py)\n",
        "ax.plot(x+[x[0]],y+[y[0]])\n",
        "plt.xlim(-10,10)\n",
        "plt.ylim(-10,10)\n",
        "\n",
        "\n",
        "triangleVsCircle(x[0], y[0], x[1], y[1], x[2], y[2], px, py, r)\n",
        "#plt.scatter(x,y)"
      ],
      "metadata": {
        "colab": {
          "base_uri": "https://localhost:8080/",
          "height": 395
        },
        "id": "raiSemRr2XAK",
        "outputId": "a47cef98-e16e-4ba0-f8c2-4dbeaa4eb03e"
      },
      "execution_count": 138,
      "outputs": [
        {
          "output_type": "execute_result",
          "data": {
            "text/plain": [
              "False"
            ]
          },
          "metadata": {},
          "execution_count": 138
        },
        {
          "output_type": "display_data",
          "data": {
            "text/plain": [
              "<Figure size 432x432 with 1 Axes>"
            ],
            "image/png": "[encoded data removed]"
          },
          "metadata": {
            "needs_background": "light"
          }
        }
      ]
    }
  ]
}