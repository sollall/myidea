{
  "nbformat": 4,
  "nbformat_minor": 0,
  "metadata": {
    "colab": {
      "name": "あらゆる物質をメチル化.ipynb",
      "provenance": [],
      "collapsed_sections": [],
      "authorship_tag": "ABX9TyPP5yfaTeUPd1PDmqPAzXtz",
      "include_colab_link": true
    },
    "kernelspec": {
      "name": "python3",
      "display_name": "Python 3"
    },
    "language_info": {
      "name": "python"
    }
  },
  "cells": [
    {
      "cell_type": "markdown",
      "metadata": {
        "id": "view-in-github",
        "colab_type": "text"
      },
      "source": [
        "<a href=\"https://colab.research.google.com/github/sollall/myidea/blob/master/%E3%81%82%E3%82%89%E3%82%86%E3%82%8B%E7%89%A9%E8%B3%AA%E3%82%92%E3%83%A1%E3%83%81%E3%83%AB%E5%8C%96.ipynb\" target=\"_parent\"><img src=\"https://colab.research.google.com/assets/colab-badge.svg\" alt=\"Open In Colab\"/></a>"
      ]
    },
    {
      "cell_type": "code",
      "metadata": {
        "id": "0y8uM7nQXP8e"
      },
      "source": [
        "!pip install condacolab\n",
        "import condacolab\n",
        "condacolab.install()\n",
        "\n",
        "!mamba install -c conda-forge rdkit\n",
        "\n",
        "from google.colab import output\n",
        "output.clear()"
      ],
      "execution_count": 5,
      "outputs": []
    },
    {
      "cell_type": "code",
      "metadata": {
        "id": "PO3SWyhUXQAs"
      },
      "source": [
        "from rdkit import Chem\n",
        "from rdkit.Chem import Draw\n",
        "\n",
        "import re"
      ],
      "execution_count": 1,
      "outputs": []
    },
    {
      "cell_type": "code",
      "metadata": {
        "colab": {
          "base_uri": "https://localhost:8080/",
          "height": 317
        },
        "id": "LdnpmfobXTcD",
        "outputId": "d7d47664-9b5b-4b60-dffb-dd5825a0df06"
      },
      "source": [
        "z = Chem.MolFromSmiles('c1ccccc1')\n",
        "z=Chem.RWMol(z)\n",
        "bond_type = Chem.rdchem.BondType.SINGLE\n",
        "for i in range(10**7):\n",
        "    z.AddBond(0, 3, bond_type)\n",
        "    z.RemoveBond(0, 3)\n",
        "\n",
        "Draw.MolToImage(z)"
      ],
      "execution_count": null,
      "outputs": [
        {
          "output_type": "execute_result",
          "data": {
            "image/png": "[encoded data removed]",
            "text/plain": [
              "<PIL.PngImagePlugin.PngImageFile image mode=RGB size=300x300 at 0x7FAE2C078590>"
            ]
          },
          "metadata": {},
          "execution_count": 2
        }
      ]
    },
    {
      "cell_type": "code",
      "metadata": {
        "colab": {
          "base_uri": "https://localhost:8080/"
        },
        "id": "7L9etfdEOmrf",
        "outputId": "93640a8b-c9d0-4458-e689-878ecf4a0c5a"
      },
      "source": [
        "import copy\n",
        "\n",
        "def metylize(smiles):\n",
        "\n",
        "    mol=Chem.MolFromSmiles(smiles)\n",
        "\n",
        "    ans=[]\n",
        "\n",
        "    for atom in mol.GetAtoms():\n",
        "        rwmol=Chem.RWMol(mol)\n",
        "        from_idx = rwmol.AddAtom(Chem.Atom(6))\n",
        "        a=atom.GetIdx()\n",
        "        print(from_idx,a)\n",
        "        rwmol.AddBond(from_idx, a, Chem.BondType.SINGLE)\n",
        "\n",
        "\n",
        "        ans.append(rwmol.GetMol())\n",
        "    return ans\n",
        "    Draw.MolToImage(ans[1])\n",
        "#print(Chem.MolToSmiles(ans[1]))\n",
        "metylize(\"CC(C)(C)C\")"
      ],
      "execution_count": 105,
      "outputs": [
        {
          "output_type": "stream",
          "name": "stdout",
          "text": [
            "5 0\n",
            "5 1\n",
            "5 2\n",
            "5 3\n",
            "5 4\n"
          ]
        },
        {
          "output_type": "execute_result",
          "data": {
            "text/plain": [
              "[<rdkit.Chem.rdchem.Mol at 0x7f4884acf350>,\n",
              " <rdkit.Chem.rdchem.Mol at 0x7f4884acf4e0>,\n",
              " <rdkit.Chem.rdchem.Mol at 0x7f4884acf440>,\n",
              " <rdkit.Chem.rdchem.Mol at 0x7f4884acff30>,\n",
              " <rdkit.Chem.rdchem.Mol at 0x7f4884acf030>]"
            ]
          },
          "metadata": {},
          "execution_count": 105
        }
      ]
    },
    {
      "cell_type": "code",
      "metadata": {
        "id": "2HI5Vez3Om1P"
      },
      "source": [
        ""
      ],
      "execution_count": null,
      "outputs": []
    }
  ]
}