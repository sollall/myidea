{
  "nbformat": 4,
  "nbformat_minor": 0,
  "metadata": {
    "colab": {
      "name": "新人研修.ipynb",
      "provenance": [],
      "collapsed_sections": [],
      "authorship_tag": "ABX9TyMMfF9kWLhUOh1LzdDOTJEb",
      "include_colab_link": true
    },
    "kernelspec": {
      "name": "python3",
      "display_name": "Python 3"
    },
    "language_info": {
      "name": "python"
    }
  },
  "cells": [
    {
      "cell_type": "markdown",
      "metadata": {
        "id": "view-in-github",
        "colab_type": "text"
      },
      "source": [
        "<a href=\"https://colab.research.google.com/github/sollall/myidea/blob/master/%E7%B5%84%E6%88%90%E5%BC%8F%E3%81%8B%E3%82%89%E6%A7%8B%E9%80%A0%E6%8F%90%E6%A1%88%E3%81%97%E3%81%A6%E3%81%BB%E3%81%97%E3%81%84.ipynb\" target=\"_parent\"><img src=\"https://colab.research.google.com/assets/colab-badge.svg\" alt=\"Open In Colab\"/></a>"
      ]
    },
    {
      "cell_type": "markdown",
      "metadata": {
        "id": "dSN3N94sjf5W"
      },
      "source": [
        "やったことがあること\n",
        "C++,Java,Python\n",
        "授業で機械学習\n",
        "\n",
        "やること候補\n",
        "まず今までの成果物みせる\n",
        "pandas\n",
        "フィンガープリントで機械学習\n",
        "競プロ\n",
        "ケモインフォ入門\n",
        "\n",
        "\n",
        "具体的に\n",
        "pandasでデータ処理+rdkitでフィンガープリント作って機械学習(NNはむずい)\n",
        "\n"
      ]
    },
    {
      "cell_type": "code",
      "metadata": {
        "id": "jzYT-2FJ4unf"
      },
      "source": [
        "from google.colab import output\n",
        "\n",
        "!pip install -q condacolab\n",
        "import condacolab\n",
        "condacolab.install()\n",
        "!conda install -q -y -c conda-forge rdkit\n",
        "\n",
        "output.clear()"
      ],
      "execution_count": 3,
      "outputs": []
    },
    {
      "cell_type": "code",
      "metadata": {
        "id": "-Wz1nLb9jMfi",
        "colab": {
          "base_uri": "https://localhost:8080/"
        },
        "outputId": "0e26fc74-209d-4deb-96b8-04cb394c4832"
      },
      "source": [
        "from __future__ import print_function\n",
        "from rdkit import Chem\n",
        "from rdkit.Chem import AllChem, Draw\n",
        "import numpy as np\n",
        "\n",
        "smiles = 'C/C=C/C'\n",
        "\n",
        "mol = Chem.MolFromSmiles(smiles)\n",
        "bit_morgan1 = {}\n",
        "fp1 = AllChem.GetMorganFingerprintAsBitVect(mol, radius=2, nBits=12, bitInfo=bit_morgan1)\n",
        "bit1 = list(fp1)\n",
        "print(bit1)"
      ],
      "execution_count": 5,
      "outputs": [
        {
          "output_type": "stream",
          "text": [
            "[0, 0, 0, 0, 1, 0, 1, 0, 1, 1, 0, 0]\n"
          ],
          "name": "stdout"
        }
      ]
    },
    {
      "cell_type": "code",
      "metadata": {
        "id": "tPtFbslTBhPo"
      },
      "source": [
        "Draw.MolToFile(mol,'test.png',size=(56, 56))"
      ],
      "execution_count": 8,
      "outputs": []
    },
    {
      "cell_type": "code",
      "metadata": {
        "id": "mpvghTnJjeyh",
        "colab": {
          "base_uri": "https://localhost:8080/"
        },
        "outputId": "87b40b8f-48ec-480a-c630-3225741e59dc"
      },
      "source": [
        "atoms_edge={\"C\":4,\"O\":2}\n",
        "node=[\"C\",\"O\",\"C\"]\n",
        "edge=[atoms_edge[node[i]] for i in range(len(node))]\n",
        "\n",
        "print(edge)\n"
      ],
      "execution_count": 10,
      "outputs": [
        {
          "output_type": "stream",
          "text": [
            "[4, 2, 4]\n"
          ],
          "name": "stdout"
        }
      ]
    },
    {
      "cell_type": "code",
      "metadata": {
        "colab": {
          "base_uri": "https://localhost:8080/"
        },
        "id": "bJK_HJd7EdWA",
        "outputId": "2877fb85-ccec-4456-c47b-50064e3ba365"
      },
      "source": [
        "def dfs(num,node,graph=[[0 for i in range(len(node))] for j in range(len(node))]):\n",
        "    edge=[atoms_edge[node[i]] for i in range(len(node))]\n",
        "\n",
        "    for index in range(num+1,len(node)):\n",
        "        print(i)\n",
        "        for j in range(have_edge[node]):\n",
        "            next_have_edge=have_edge[:]\n",
        "            \n",
        "\n",
        "\n",
        "\n",
        "    return graph\n",
        "\n",
        "dfs(0,node)"
      ],
      "execution_count": 20,
      "outputs": [
        {
          "output_type": "stream",
          "text": [
            "1\n",
            "2\n"
          ],
          "name": "stdout"
        },
        {
          "output_type": "execute_result",
          "data": {
            "text/plain": [
              "[[0, 0, 0], [0, 0, 0], [0, 0, 0]]"
            ]
          },
          "metadata": {
            "tags": []
          },
          "execution_count": 20
        }
      ]
    },
    {
      "cell_type": "code",
      "metadata": {
        "colab": {
          "base_uri": "https://localhost:8080/",
          "height": 35
        },
        "id": "A9n9AaB0FefA",
        "outputId": "ee126947-929f-4301-9250-4bbb57c8dff8"
      },
      "source": [
        "nodes=[\"C\",\"C\"]\n",
        "a=[[0,3],\n",
        "   [3,0]]\n",
        "\n",
        "\n",
        "def MolFromGraphs(node_list, adjacency_matrix):\n",
        "\n",
        "    # create empty editable mol object\n",
        "    mol = Chem.RWMol()\n",
        "\n",
        "    # add atoms to mol and keep track of index\n",
        "    node_to_idx = {}\n",
        "    for i in range(len(node_list)):\n",
        "        a = Chem.Atom(node_list[i])\n",
        "        molIdx = mol.AddAtom(a)\n",
        "        node_to_idx[i] = molIdx\n",
        "\n",
        "    # add bonds between adjacent atoms\n",
        "    for ix, row in enumerate(adjacency_matrix):\n",
        "        for iy, bond in enumerate(row):\n",
        "\n",
        "            # only traverse half the matrix\n",
        "            if iy <= ix:\n",
        "                continue\n",
        "\n",
        "            # add relevant bond type (there are many more of these)\n",
        "            if bond == 0:\n",
        "                continue\n",
        "            elif bond == 1:\n",
        "                bond_type = Chem.rdchem.BondType.SINGLE\n",
        "                mol.AddBond(node_to_idx[ix], node_to_idx[iy], bond_type)\n",
        "            elif bond == 2:\n",
        "                bond_type = Chem.rdchem.BondType.DOUBLE\n",
        "                mol.AddBond(node_to_idx[ix], node_to_idx[iy], bond_type)\n",
        "\n",
        "    # Convert RWMol to Mol object\n",
        "    mol = mol.GetMol()            \n",
        "\n",
        "    return mol\n",
        "Chem.MolToSmiles(MolFromGraphs(nodes, a))"
      ],
      "execution_count": 19,
      "outputs": [
        {
          "output_type": "execute_result",
          "data": {
            "application/vnd.google.colaboratory.intrinsic+json": {
              "type": "string"
            },
            "text/plain": [
              "'C.C'"
            ]
          },
          "metadata": {
            "tags": []
          },
          "execution_count": 19
        }
      ]
    }
  ]
}