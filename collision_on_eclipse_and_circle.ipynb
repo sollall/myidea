{
  "nbformat": 4,
  "nbformat_minor": 0,
  "metadata": {
    "colab": {
      "provenance": [],
      "authorship_tag": "ABX9TyO/unHlLAepKWjuc/5bnFbI",
      "include_colab_link": true
    },
    "kernelspec": {
      "name": "python3",
      "display_name": "Python 3"
    },
    "language_info": {
      "name": "python"
    }
  },
  "cells": [
    {
      "cell_type": "markdown",
      "metadata": {
        "id": "view-in-github",
        "colab_type": "text"
      },
      "source": [
        "<a href=\"https://colab.research.google.com/github/sollall/myidea/blob/master/collision_on_eclipse_and_circle.ipynb\" target=\"_parent\"><img src=\"https://colab.research.google.com/assets/colab-badge.svg\" alt=\"Open In Colab\"/></a>"
      ]
    },
    {
      "cell_type": "code",
      "source": [
        "!pip install pygame"
      ],
      "metadata": {
        "id": "UWvP7ZCt6pBB",
        "outputId": "e17b297d-7993-4d77-fd0f-02d8d764f429",
        "colab": {
          "base_uri": "https://localhost:8080/"
        }
      },
      "execution_count": 1,
      "outputs": [
        {
          "output_type": "stream",
          "name": "stdout",
          "text": [
            "Looking in indexes: https://pypi.org/simple, https://us-python.pkg.dev/colab-wheels/public/simple/\n",
            "Collecting pygame\n",
            "  Downloading pygame-2.1.2-cp37-cp37m-manylinux_2_17_x86_64.manylinux2014_x86_64.whl (21.8 MB)\n",
            "\u001b[K     |████████████████████████████████| 21.8 MB 1.5 MB/s \n",
            "\u001b[?25hInstalling collected packages: pygame\n",
            "Successfully installed pygame-2.1.2\n"
          ]
        }
      ]
    },
    {
      "cell_type": "code",
      "execution_count": null,
      "metadata": {
        "colab": {
          "base_uri": "https://localhost:8080/"
        },
        "id": "uLuy996k6f_f",
        "outputId": "86f4e26c-02f8-46ce-e926-7c5897fd1c45"
      },
      "outputs": [
        {
          "output_type": "error",
          "ename": "error",
          "evalue": "ignored",
          "traceback": [
            "\u001b[0;31m---------------------------------------------------------------------------\u001b[0m",
            "\u001b[0;31merror\u001b[0m                                     Traceback (most recent call last)",
            "\u001b[0;32m<ipython-input-4-d8ea6fc6e754>\u001b[0m in \u001b[0;36m<module>\u001b[0;34m\u001b[0m\n\u001b[1;32m     39\u001b[0m \u001b[0;34m\u001b[0m\u001b[0m\n\u001b[1;32m     40\u001b[0m \u001b[0mpygame\u001b[0m\u001b[0;34m.\u001b[0m\u001b[0minit\u001b[0m\u001b[0;34m(\u001b[0m\u001b[0;34m)\u001b[0m\u001b[0;34m\u001b[0m\u001b[0;34m\u001b[0m\u001b[0m\n\u001b[0;32m---> 41\u001b[0;31m \u001b[0mwindow\u001b[0m \u001b[0;34m=\u001b[0m \u001b[0mpygame\u001b[0m\u001b[0;34m.\u001b[0m\u001b[0mdisplay\u001b[0m\u001b[0;34m.\u001b[0m\u001b[0mset_mode\u001b[0m\u001b[0;34m(\u001b[0m\u001b[0;34m(\u001b[0m\u001b[0;36m500\u001b[0m\u001b[0;34m,\u001b[0m \u001b[0;36m300\u001b[0m\u001b[0;34m)\u001b[0m\u001b[0;34m)\u001b[0m\u001b[0;34m\u001b[0m\u001b[0;34m\u001b[0m\u001b[0m\n\u001b[0m\u001b[1;32m     42\u001b[0m \u001b[0mcircle\u001b[0m \u001b[0;34m=\u001b[0m \u001b[0mCircle\u001b[0m\u001b[0;34m(\u001b[0m\u001b[0;36m0\u001b[0m\u001b[0;34m,\u001b[0m \u001b[0;36m0\u001b[0m\u001b[0;34m,\u001b[0m \u001b[0;36m30\u001b[0m\u001b[0;34m)\u001b[0m\u001b[0;34m\u001b[0m\u001b[0;34m\u001b[0m\u001b[0m\n\u001b[1;32m     43\u001b[0m \u001b[0mellipse\u001b[0m \u001b[0;34m=\u001b[0m \u001b[0mEllipse\u001b[0m\u001b[0;34m(\u001b[0m\u001b[0mwindow\u001b[0m\u001b[0;34m.\u001b[0m\u001b[0mget_rect\u001b[0m\u001b[0;34m(\u001b[0m\u001b[0;34m)\u001b[0m\u001b[0;34m.\u001b[0m\u001b[0mcenter\u001b[0m\u001b[0;34m,\u001b[0m \u001b[0;34m(\u001b[0m\u001b[0;36m150\u001b[0m\u001b[0;34m,\u001b[0m \u001b[0;36m100\u001b[0m\u001b[0;34m)\u001b[0m\u001b[0;34m)\u001b[0m\u001b[0;34m\u001b[0m\u001b[0;34m\u001b[0m\u001b[0m\n",
            "\u001b[0;31merror\u001b[0m: No available video device"
          ]
        }
      ],
      "source": [
        "import math\n",
        "import pygame\n",
        "\n",
        "class Circle:\n",
        "    def __init__(self, center_x, center_y, radius):\n",
        "        self.center = center_x, center_y\n",
        "        self.radius = radius\n",
        "    def update(self, center_x, center_y):\n",
        "        self.center = center_x, center_y\n",
        "    def draw(self, surface):\n",
        "        pygame.draw.circle(surface, (255, 0, 0), (round(self.center[0]), round(self.center[1])), self.radius, 3)\n",
        "\n",
        "class Ellipse:\n",
        "    def __init__(self, center, vertex):\n",
        "        self.center = center\n",
        "        self.collided = False\n",
        "        self.vertex = vertex\n",
        "    def draw(self, surface):\n",
        "        bounding_rect = pygame.Rect(0, 0, self.vertex[0] * 2, self.vertex[1] * 2)\n",
        "        bounding_rect.center = round(self.center[0]), round(self.center[1])\n",
        "        pygame.draw.ellipse(surface, (0, 255, 0), bounding_rect, 3)\n",
        "    def pointFromAngle(self, a):\n",
        "        c = math.cos(a)\n",
        "        s = math.sin(a)\n",
        "        ta = s / c  ## tan(a)\n",
        "        tt = ta * self.vertex[0] / self.vertex[1]  ## tan(t)\n",
        "        d = 1. / math.sqrt(1. + tt * tt)\n",
        "        x = self.center[0] + math.copysign(self.vertex[0] * d, c)\n",
        "        y = self.center[1] - math.copysign(self.vertex[1] * tt * d, s)\n",
        "        \n",
        "        return x, y\n",
        "\n",
        "def intersect_circle_ellipse(circle, ellipse,side=None):\n",
        "    dx = circle.center[0] - ellipse.center[0]\n",
        "    dy = circle.center[1] - ellipse.center[1]\n",
        "    angle = math.atan2(-dy, dx)\n",
        "    x, y = ellipse.pointFromAngle(angle)\n",
        "    distance = math.hypot(x - circle.center[0], y-circle.center[1])\n",
        "\n",
        "    if side==\"front\":\n",
        "        return distance <= circle.radius and dx>=0, (x, y) \n",
        "    elif side==\"back\":\n",
        "        return distance <= circle.radius and dx<=0, (x, y) \n",
        "    else:\n",
        "        return distance <= circle.radius, (x, y) \n",
        "\n",
        "pygame.init()\n",
        "window = pygame.display.set_mode((500, 300))\n",
        "circle = Circle(0, 0, 30)      \n",
        "ellipse1 = Ellipse(window.get_rect().center, (150, 100))\n",
        "ellipse2 = Ellipse(window.get_rect().center, (50, 100))\n",
        "\n",
        "run = True\n",
        "while run:\n",
        "    events = pygame.event.get()\n",
        "    mousePos = pygame.mouse.get_pos()\n",
        "    for event in events:\n",
        "        if event.type == pygame.QUIT:\n",
        "            run = False\n",
        "            \n",
        "    circle.update(*mousePos)\n",
        "    isect1 = intersect_circle_ellipse(circle, ellipse1,side=\"front\")\n",
        "    isect2 = intersect_circle_ellipse(circle, ellipse2,side=\"back\")\n",
        "\n",
        "    window.fill((255, 255, 255))\n",
        "    circle.draw(window)\n",
        "    ellipse1.draw(window) \n",
        "    ellipse2.draw(window)\n",
        "\n",
        "    color = (255, 0, 255) if isect1[0] or isect2[0] else (0, 0, 255)\n",
        "    #color = (255, 0, 255) if isect2[0] else (0, 0, 255)\n",
        "\n",
        "    pygame.draw.circle(window, color, (round(isect1[1][0]), round(isect1[1][1])), 5)\n",
        "\n",
        "    pygame.draw.circle(window, color, (round(isect2[1][0]), round(isect2[1][1])), 5)\n",
        "    pygame.display.flip()\n",
        "\n",
        "pygame.quit()\n",
        "exit()"
      ]
    }
  ]
}